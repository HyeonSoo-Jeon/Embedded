{
 "cells": [
  {
   "cell_type": "markdown",
   "metadata": {},
   "source": [
    "## ARIMA Model\n",
    "\n",
    "다음 단계를 완료하여 비계절 ARIMA 모델로 분석할 데이터 열을 지정합니다. 일정한 항을 가진 모델을 적합시키면 후보 모델의 p + q ≤ 9가 있습니다. 상수 항이 없는 모형을 맞추면 후보 모델의 p + q ≤ 10이 됩니다. d = 2인 후보 모델은 일정한 항이 없는 경우 적합합니다.\n",
    "<br><br>\n",
    "계절별 ARIMA 모델로 분석할 데이터 열을 지정합니다. 일정한 항을 가진 모형을 적합시키면 후보 모형의 p + q + P + Q ≤ 9가 있습니다. 일정한 항이 없는 모형을 적합시키면 후보 모델의 p + q + P + Q ≤ 10이 됩니다. d + D > 1 인 후보 모델은 일정한 항없이 적합합니다.\n",
    "<br><br>\n",
    "모형의 식별에서  P,Q 를 간결의 원칙으로 인해 P <3 , Q < 3으로 선택하는 것이 가장 좋다\n",
    "모형 개수가 증가하면 예측 모형이 복잡해질 뿐 아니라 추정의 효율성도 떨어지기 때문이다. \n"
   ]
  }
 ],
 "metadata": {
  "kernelspec": {
   "display_name": "Python 3.9.1 64-bit",
   "language": "python",
   "name": "python3"
  },
  "language_info": {
   "name": "python",
   "version": "3.9.1"
  },
  "orig_nbformat": 4,
  "vscode": {
   "interpreter": {
    "hash": "6624f17457d86bc2ef32da6ac1efc70af27f16e66611c62312878f777ddeaa90"
   }
  }
 },
 "nbformat": 4,
 "nbformat_minor": 2
}
