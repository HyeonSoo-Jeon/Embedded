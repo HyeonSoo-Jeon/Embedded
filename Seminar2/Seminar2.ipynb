{
 "cells": [
  {
   "cell_type": "markdown",
   "metadata": {},
   "source": [
    "# <b>ARIMA Model</b>\n",
    "\n",
    "다음 단계를 완료하여 비계절 ARIMA 모델로 분석할 데이터 열을 지정합니다. 일정한 항을 가진 모델을 적합시키면 후보 모델의 p + q ≤ 9가 있습니다. 상수 항이 없는 모형을 맞추면 후보 모델의 p + q ≤ 10이 됩니다. d = 2인 후보 모델은 일정한 항이 없는 경우 적합합니다.\n",
    "<br><br>\n",
    "계절별 ARIMA 모델로 분석할 데이터 열을 지정합니다. 일정한 항을 가진 모형을 적합시키면 후보 모형의 p + q + P + Q ≤ 9가 있습니다. 일정한 항이 없는 모형을 적합시키면 후보 모델의 p + q + P + Q ≤ 10이 됩니다. d + D > 1 인 후보 모델은 일정한 항없이 적합합니다.\n",
    "<br><br>\n",
    "모형의 식별에서  P,Q 를 간결의 원칙으로 인해 P <3 , Q < 3으로 선택하는 것이 가장 좋다\n",
    "모형 개수가 증가하면 예측 모형이 복잡해질 뿐 아니라 추정의 효율성도 떨어지기 때문이다. \n"
   ]
  },
  {
   "cell_type": "markdown",
   "metadata": {},
   "source": [
    "## 변수에 대한 설명\n",
    "\n",
    "$ARIMA(p, d, q) = C + \\displaystyle\\sum_{i=1}^{p}{\\phi_i y_{t-i}}+\\epsilon_t+\\displaystyle\\sum_{i=1}^{q}{\\theta_i \\epsilon_{t-i}}$\n",
    "\n",
    "\n",
    "* p : 과거 몇개의 값으로 미래를 예측할 것인가? \n",
    "* d : 과거 몇개의 noise값으로 미래를 예측할 것인가?\n",
    "* q : 차분의 차수\n",
    "\n",
    "\n",
    "<br>\n",
    "차분을 통해 평균을 정상화 시킬 수 있다.\n"
   ]
  },
  {
   "cell_type": "markdown",
   "metadata": {},
   "source": [
    "SARIMA model\n",
    "* p\n",
    "* d : 계절성 차분, 여러 시점 전의 자료를 뺌\n",
    "* q"
   ]
  },
  {
   "cell_type": "markdown",
   "metadata": {},
   "source": [
    "중기예측은 보통 6개월에서 2년을 대상기간으로 하며 계량적 접근이 가 능하고 전문가의 의견도 많은 도움이 된다. 단기예측은 보통 6개월 이내의 분기별, 월별, 주별, 일별예측을 말하며 상대적으로 정확한 예측이 가능하다.\n",
    "\n",
    "- 수학적 이론모형 : 회귀분석(계량경제)방법, Box-Jenkins방법\n",
    "\n",
    "- 직관적 방법 : 지수평활법, 시계열 분해법으로 시간에 따른 변등이 느린 데이터 분석에 활용\n",
    "\n",
    "​\n",
    "\n",
    "- 장기예측 : 회귀분석방법\n",
    "\n",
    "- 단기예적 : Box-Jenkins방법, 지수평활법, 시계열 분해법"
   ]
  },
  {
   "cell_type": "markdown",
   "metadata": {},
   "source": [
    "### 백색 소음(White Noise)\n",
    "\n",
    "<b>Noise</b><br><br>\n",
    "noise는 피할 수 없는 외부 요소로 발생하는 잡음입니다. 다시말하면, 통제할 수 없는 요소(uncontrollable factor)에 의해 발생하는 noise라고 할 수 있습니다. noise를 처리하는 작업을 해야, 분석을 일관성 있게 할 수 있습니다. 즉, noise를 통제가능하도록 하는 작업이 필요합니다. 여기에 필요한 개념이 <em><b>white noise</b></em>입니다.\n",
    "<br>\n",
    "\n",
    "white noise는 아래와 같은 조건이 있습니다.\n",
    "<br><br>\n",
    "\n",
    "1\\. $Cov(a_t, a_s) = 0$\n",
    "\n",
    "    상관관계가 0인 것은 white noise 간에 선형적으로는 예측할 수 있는 정보가 없음을 의미합니다.\n",
    "\n",
    "2\\. $E(a_t) = 0$\n",
    "\n",
    "    white noise의 평균을 0으로 만듦(demeaning)으로써 계산과 모형을 간편하게 할 수 있습니다.\n",
    "\n",
    "3\\. $Var(a_t) = \\sigma^2_a$\n",
    "\n",
    "    t에 상관없이 일정한 분산(variance)을 갖는 것입니다.\n",
    "\n",
    "4\\. IID(Identical and InDependent)\n",
    "\n",
    "    서로 같은 분포를 따르고, 서로 간에 어떠한 선형적, 비선형적 관계도 없음을 의미합니다.\n"
   ]
  },
  {
   "cell_type": "markdown",
   "metadata": {},
   "source": [
    "### 정상성(stationarity)\n",
    "\n",
    "시계열 분석에서 정상성의 의미는 시간이 지남에 따라서 시계열의 확률적 특징들이 변하지 않음을 뜻합니다. 시계열 모형은 이전 데이터를 바탕으로 만들어지고 예측을 하게 됩니다. 그런데 시간이 지남에 따라 데이터의 특징이 바뀌면 예측이 가능할까요? 아마 쉽지 않을 것입니다. 즉, 정상성은 예측을 할 때 필요한 조건인 것입니다."
   ]
  },
  {
   "cell_type": "markdown",
   "metadata": {},
   "source": [
    "## MA Model\n",
    "\n",
    "과거의 오차항으로 시계열을 설명할 수 있다는 이론\n",
    "\n",
    "\n",
    "## AR Model\n",
    "\n",
    "현재의 시계열이 과거의 관측 값들로 설명이 된다는 이론"
   ]
  }
 ],
 "metadata": {
  "kernelspec": {
   "display_name": "Python 3.9.1 64-bit",
   "language": "python",
   "name": "python3"
  },
  "language_info": {
   "name": "python",
   "version": "3.9.1"
  },
  "orig_nbformat": 4,
  "vscode": {
   "interpreter": {
    "hash": "6624f17457d86bc2ef32da6ac1efc70af27f16e66611c62312878f777ddeaa90"
   }
  }
 },
 "nbformat": 4,
 "nbformat_minor": 2
}
