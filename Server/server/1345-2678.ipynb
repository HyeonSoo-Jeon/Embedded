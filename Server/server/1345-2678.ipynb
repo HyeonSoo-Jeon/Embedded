{
 "cells": [
  {
   "cell_type": "code",
   "execution_count": 174,
   "metadata": {},
   "outputs": [],
   "source": [
    "from neuralprophet import NeuralProphet\n",
    "import pandas as pd\n",
    "\n",
    "def make_df(filename, ID):\n",
    "    df = pd.read_csv(filename)        \n",
    "    df.rename(columns={'Date' : 'ds' , 'S' : 'y'}, inplace = True)\n",
    "    \n",
    "    df['ds'] = pd.to_datetime(df['ds'])\n",
    "    df.set_index('ds', inplace = True)\n",
    "    df_daily = df.resample('D').mean()\n",
    "    \n",
    "    df_daily['H'].fillna(method='ffill', inplace = True)\n",
    "    df = df_daily.reset_index()\n",
    "    df['ID'] = ID\n",
    "    \n",
    "    df = df[['ds','y','H','ID']]\n",
    "    \n",
    "    return df\n",
    "\n",
    "\n",
    "def make_df_inter(filename, ID):\n",
    "    df = pd.read_csv(filename)\n",
    "\n",
    "    df.rename(columns={'Date': 'ds', 'S': 'y'}, inplace=True)\n",
    "    df['ds'] = pd.to_datetime(df['ds'])\n",
    "    df.set_index('ds', inplace=True)\n",
    "    df_daily = df.resample('D').mean()\n",
    "\n",
    "    df_daily['H'].fillna(method='ffill', inplace=True)\n",
    "\n",
    "    df_daily = df_daily.interpolate(method='linear')\n",
    "    df = df_daily.reset_index()\n",
    "\n",
    "    df['ID'] = ID\n",
    "    df = df[['ds', 'y', 'H', 'ID']]\n",
    "\n",
    "    return df\n",
    "\n",
    "\n",
    "# 298 기간\n",
    "\n",
    "df1 = make_df('H-S_seq_1.csv',ID = 'data1')\n",
    "df2 = make_df('H-S_seq_2.csv',ID = 'data2')\n",
    "df3 = make_df('H-S_seq_3.csv',ID = 'data3')\n",
    "df4 = make_df('H-S_seq_4.csv',ID = 'data4')\n",
    "df5 = make_df('H-S_seq_5.csv',ID = 'data5')\n",
    "df6 = make_df('H-S_seq_6.csv',ID = 'data6')\n",
    "df7 = make_df('H-S_seq_7.csv',ID = 'data7')\n",
    "df8 = make_df('H-S_seq_8.csv',ID = 'data8')\n"
   ]
  },
  {
   "cell_type": "code",
   "execution_count": 197,
   "metadata": {},
   "outputs": [],
   "source": [
    "dfset1 = pd.concat((df2, df5, df6, df7, df8)) # 1\n",
    "dfset2 = df4 # 3\n",
    "dfset2 = pd.concat((df3, df4)) # 3"
   ]
  },
  {
   "cell_type": "code",
   "execution_count": 176,
   "metadata": {},
   "outputs": [
    {
     "name": "stderr",
     "output_type": "stream",
     "text": [
      "WARNING - (NP.forecaster.fit) - When Global modeling with local normalization, metrics are displayed in normalized scale.\n",
      "INFO - (NP.df_utils._infer_frequency) - Major frequency D corresponds to 99.664% of the data.\n",
      "INFO - (NP.df_utils._infer_frequency) - Dataframe freq automatically defined as D\n",
      "INFO - (NP.df_utils._infer_frequency) - Major frequency D corresponds to 99.664% of the data.\n",
      "INFO - (NP.df_utils._infer_frequency) - Dataframe freq automatically defined as D\n",
      "INFO - (NP.df_utils._infer_frequency) - Major frequency D corresponds to 99.664% of the data.\n",
      "INFO - (NP.df_utils._infer_frequency) - Dataframe freq automatically defined as D\n",
      "INFO - (NP.df_utils._infer_frequency) - Major frequency D corresponds to 99.664% of the data.\n",
      "INFO - (NP.df_utils._infer_frequency) - Dataframe freq automatically defined as D\n",
      "INFO - (NP.df_utils._infer_frequency) - Major frequency D corresponds to 99.664% of the data.\n",
      "INFO - (NP.df_utils._infer_frequency) - Dataframe freq automatically defined as D\n",
      "INFO - (NP.forecaster.__handle_missing_data) - dropped 236 NAN row in 'y'\n",
      "INFO - (NP.forecaster.__handle_missing_data) - dropped 234 NAN row in 'y'\n",
      "INFO - (NP.forecaster.__handle_missing_data) - dropped 234 NAN row in 'y'\n",
      "INFO - (NP.forecaster.__handle_missing_data) - dropped 234 NAN row in 'y'\n",
      "INFO - (NP.forecaster.__handle_missing_data) - dropped 234 NAN row in 'y'\n",
      "ERROR - (NP.df_utils.get_normalization_params) - Normalization True not defined.\n",
      "ERROR - (NP.df_utils.get_normalization_params) - Normalization True not defined.\n",
      "ERROR - (NP.df_utils.get_normalization_params) - Normalization True not defined.\n",
      "ERROR - (NP.df_utils.get_normalization_params) - Normalization True not defined.\n",
      "ERROR - (NP.df_utils.get_normalization_params) - Normalization True not defined.\n",
      "ERROR - (NP.df_utils.get_normalization_params) - Normalization True not defined.\n",
      "INFO - (NP.utils.set_auto_seasonalities) - Disabling daily seasonality. Run NeuralProphet with daily_seasonality=True to override this.\n",
      "INFO - (NP.config.set_auto_batch_epoch) - Auto-set batch_size to 16\n",
      "INFO - (NP.config.set_auto_batch_epoch) - Auto-set epochs to 295\n"
     ]
    },
    {
     "data": {
      "application/vnd.jupyter.widget-view+json": {
       "model_id": "4fd78ce2f28e4106b386983d9aceb327",
       "version_major": 2,
       "version_minor": 0
      },
      "text/plain": [
       "Training: 0it [00:00, ?it/s]"
      ]
     },
     "metadata": {},
     "output_type": "display_data"
    }
   ],
   "source": [
    "\n",
    "m1 = NeuralProphet(learning_rate=0.1, \n",
    "                  yearly_seasonality=False, \n",
    "                  weekly_seasonality=False, \n",
    "                  unknown_data_normalization=True, \n",
    "                  newer_samples_weight = 4,\n",
    "                  optimizer = 'AdamW'\n",
    "                  )\n",
    "m1 = m1.add_future_regressor(name='H', normalize=True)\n",
    "metrics = m1.fit(dfset1)\n"
   ]
  },
  {
   "cell_type": "code",
   "execution_count": 198,
   "metadata": {},
   "outputs": [
    {
     "name": "stderr",
     "output_type": "stream",
     "text": [
      "WARNING - (NP.forecaster.fit) - When Global modeling with local normalization, metrics are displayed in normalized scale.\n",
      "INFO - (NP.df_utils._infer_frequency) - Major frequency D corresponds to 99.664% of the data.\n",
      "INFO - (NP.df_utils._infer_frequency) - Dataframe freq automatically defined as D\n",
      "INFO - (NP.df_utils._infer_frequency) - Major frequency D corresponds to 99.664% of the data.\n",
      "INFO - (NP.df_utils._infer_frequency) - Dataframe freq automatically defined as D\n",
      "INFO - (NP.forecaster.__handle_missing_data) - dropped 236 NAN row in 'y'\n",
      "INFO - (NP.forecaster.__handle_missing_data) - dropped 236 NAN row in 'y'\n",
      "ERROR - (NP.df_utils.get_normalization_params) - Normalization True not defined.\n",
      "ERROR - (NP.df_utils.get_normalization_params) - Normalization True not defined.\n",
      "ERROR - (NP.df_utils.get_normalization_params) - Normalization True not defined.\n",
      "INFO - (NP.utils.set_auto_seasonalities) - Disabling daily seasonality. Run NeuralProphet with daily_seasonality=True to override this.\n",
      "INFO - (NP.config.set_auto_batch_epoch) - Auto-set batch_size to 16\n",
      "INFO - (NP.config.set_auto_batch_epoch) - Auto-set epochs to 473\n"
     ]
    },
    {
     "data": {
      "application/vnd.jupyter.widget-view+json": {
       "model_id": "748784f6b14d48258f8a5056e80d5155",
       "version_major": 2,
       "version_minor": 0
      },
      "text/plain": [
       "Training: 0it [00:00, ?it/s]"
      ]
     },
     "metadata": {},
     "output_type": "display_data"
    }
   ],
   "source": [
    "m2 = NeuralProphet(learning_rate=0.1, \n",
    "                  yearly_seasonality=False, \n",
    "                  weekly_seasonality=False, \n",
    "                  unknown_data_normalization=True, \n",
    "                  newer_samples_weight = 4,\n",
    "                  optimizer = 'AdamW',\n",
    "                  )\n",
    "m2 = m2.add_future_regressor(name='H', normalize=True)\n",
    "metrics = m2.fit(dfset2)"
   ]
  },
  {
   "cell_type": "code",
   "execution_count": null,
   "metadata": {},
   "outputs": [],
   "source": [
    "forecast1 = m1.predict(df1)\n",
    "m1.plot(forecast1)\n",
    "forecast1"
   ]
  },
  {
   "cell_type": "code",
   "execution_count": null,
   "metadata": {},
   "outputs": [],
   "source": [
    "import matplotlib.pyplot as plt\n",
    "\n",
    "def RMSE(result):\n",
    "    cnt = 0\n",
    "    SE = 0\n",
    "    for idx, row in result.dropna().iterrows():\n",
    "        cnt += 1\n",
    "        SE += (row['y']-row['yhat1'])**2\n",
    "    return (SE/cnt)**(1/2)\n",
    "    # return (SE/cnt)\n",
    "\n",
    "rmse = RMSE(forecast1)\n",
    "\n",
    "\n",
    "plt.scatter(forecast1['ds'], forecast1['y'],\n",
    "            label='Actual', s=10, color='black')\n",
    "plt.plot(forecast1['ds'], forecast1['yhat1'], label='Forecast')\n",
    "plt.text(pd.datetime(2021,10,5),2,f'RMSE : {rmse%10000}')\n",
    "plt.text(pd.datetime(2021,9,7),9,'H : 0.62')\n",
    "plt.text(pd.datetime(2021,10,12),19,'H : 2.232')\n",
    "plt.text(pd.datetime(2021,10,26),30,'H : 3.224')\n",
    "plt.text(pd.datetime(2021,12,4),38,'H : 3.596')\n",
    "plt.text(pd.datetime(2021,12,23),41,'H : 4.092')\n",
    "plt.text(pd.datetime(2022,1,15),47,'H : 4.464')\n",
    "plt.xticks(rotation=45)\n",
    "plt.title('H-S_seq_1')\n",
    "plt.xlabel('Date')\n",
    "plt.ylabel('S')\n",
    "plt.legend()\n",
    "plt.show()\n",
    "RMSE(forecast1)\n"
   ]
  },
  {
   "cell_type": "code",
   "execution_count": 203,
   "metadata": {},
   "outputs": [
    {
     "name": "stderr",
     "output_type": "stream",
     "text": [
      "INFO - (NP.df_utils._infer_frequency) - Major frequency D corresponds to 99.664% of the data.\n",
      "INFO - (NP.df_utils._infer_frequency) - Defined frequency is equal to major frequency - D\n",
      "INFO - (NP.df_utils._infer_frequency) - Major frequency D corresponds to 99.664% of the data.\n",
      "INFO - (NP.df_utils._infer_frequency) - Defined frequency is equal to major frequency - D\n"
     ]
    },
    {
     "data": {
      "application/vnd.jupyter.widget-view+json": {
       "model_id": "34a4e95ad6eb42519219680ae5f5bfd9",
       "version_major": 2,
       "version_minor": 0
      },
      "text/plain": [
       "Predicting: 8it [00:00, ?it/s]"
      ]
     },
     "metadata": {},
     "output_type": "display_data"
    },
    {
     "name": "stderr",
     "output_type": "stream",
     "text": [
      "WARNING - (NP.plotting.log_warning_deprecation_plotly) - DeprecationWarning: default plotting_backend will be changed to plotly in a future version. Switch to plotly by calling `m.set_plotting_backend('plotly')`.\n"
     ]
    },
    {
     "data": {
      "text/html": [
       "<div>\n",
       "<style scoped>\n",
       "    .dataframe tbody tr th:only-of-type {\n",
       "        vertical-align: middle;\n",
       "    }\n",
       "\n",
       "    .dataframe tbody tr th {\n",
       "        vertical-align: top;\n",
       "    }\n",
       "\n",
       "    .dataframe thead th {\n",
       "        text-align: right;\n",
       "    }\n",
       "</style>\n",
       "<table border=\"1\" class=\"dataframe\">\n",
       "  <thead>\n",
       "    <tr style=\"text-align: right;\">\n",
       "      <th></th>\n",
       "      <th>ds</th>\n",
       "      <th>y</th>\n",
       "      <th>ID</th>\n",
       "      <th>yhat1</th>\n",
       "      <th>trend</th>\n",
       "      <th>future_regressors_additive</th>\n",
       "      <th>future_regressor_H</th>\n",
       "    </tr>\n",
       "  </thead>\n",
       "  <tbody>\n",
       "    <tr>\n",
       "      <th>0</th>\n",
       "      <td>2021-08-06</td>\n",
       "      <td>0.000</td>\n",
       "      <td>data5</td>\n",
       "      <td>0.776722</td>\n",
       "      <td>0.776722</td>\n",
       "      <td>0.000000</td>\n",
       "      <td>0.000000</td>\n",
       "    </tr>\n",
       "    <tr>\n",
       "      <th>1</th>\n",
       "      <td>2021-08-07</td>\n",
       "      <td>NaN</td>\n",
       "      <td>data5</td>\n",
       "      <td>0.800709</td>\n",
       "      <td>0.800709</td>\n",
       "      <td>0.000000</td>\n",
       "      <td>0.000000</td>\n",
       "    </tr>\n",
       "    <tr>\n",
       "      <th>2</th>\n",
       "      <td>2021-08-08</td>\n",
       "      <td>NaN</td>\n",
       "      <td>data5</td>\n",
       "      <td>0.824695</td>\n",
       "      <td>0.824695</td>\n",
       "      <td>0.000000</td>\n",
       "      <td>0.000000</td>\n",
       "    </tr>\n",
       "    <tr>\n",
       "      <th>3</th>\n",
       "      <td>2021-08-09</td>\n",
       "      <td>NaN</td>\n",
       "      <td>data5</td>\n",
       "      <td>0.848682</td>\n",
       "      <td>0.848682</td>\n",
       "      <td>0.000000</td>\n",
       "      <td>0.000000</td>\n",
       "    </tr>\n",
       "    <tr>\n",
       "      <th>4</th>\n",
       "      <td>2021-08-10</td>\n",
       "      <td>NaN</td>\n",
       "      <td>data5</td>\n",
       "      <td>0.872669</td>\n",
       "      <td>0.872669</td>\n",
       "      <td>0.000000</td>\n",
       "      <td>0.000000</td>\n",
       "    </tr>\n",
       "    <tr>\n",
       "      <th>...</th>\n",
       "      <td>...</td>\n",
       "      <td>...</td>\n",
       "      <td>...</td>\n",
       "      <td>...</td>\n",
       "      <td>...</td>\n",
       "      <td>...</td>\n",
       "      <td>...</td>\n",
       "    </tr>\n",
       "    <tr>\n",
       "      <th>293</th>\n",
       "      <td>2022-05-26</td>\n",
       "      <td>NaN</td>\n",
       "      <td>data5</td>\n",
       "      <td>65.135925</td>\n",
       "      <td>22.581045</td>\n",
       "      <td>42.554882</td>\n",
       "      <td>42.554882</td>\n",
       "    </tr>\n",
       "    <tr>\n",
       "      <th>294</th>\n",
       "      <td>2022-05-27</td>\n",
       "      <td>57.288</td>\n",
       "      <td>data5</td>\n",
       "      <td>65.142281</td>\n",
       "      <td>22.587395</td>\n",
       "      <td>42.554882</td>\n",
       "      <td>42.554882</td>\n",
       "    </tr>\n",
       "    <tr>\n",
       "      <th>295</th>\n",
       "      <td>2022-05-28</td>\n",
       "      <td>NaN</td>\n",
       "      <td>data5</td>\n",
       "      <td>65.148628</td>\n",
       "      <td>22.593744</td>\n",
       "      <td>42.554882</td>\n",
       "      <td>42.554882</td>\n",
       "    </tr>\n",
       "    <tr>\n",
       "      <th>296</th>\n",
       "      <td>2022-05-29</td>\n",
       "      <td>NaN</td>\n",
       "      <td>data5</td>\n",
       "      <td>65.154976</td>\n",
       "      <td>22.600094</td>\n",
       "      <td>42.554882</td>\n",
       "      <td>42.554882</td>\n",
       "    </tr>\n",
       "    <tr>\n",
       "      <th>297</th>\n",
       "      <td>2022-05-30</td>\n",
       "      <td>57.288</td>\n",
       "      <td>data5</td>\n",
       "      <td>65.161324</td>\n",
       "      <td>22.606441</td>\n",
       "      <td>42.554882</td>\n",
       "      <td>42.554882</td>\n",
       "    </tr>\n",
       "  </tbody>\n",
       "</table>\n",
       "<p>298 rows × 7 columns</p>\n",
       "</div>"
      ],
      "text/plain": [
       "            ds       y     ID      yhat1      trend  \\\n",
       "0   2021-08-06   0.000  data5   0.776722   0.776722   \n",
       "1   2021-08-07     NaN  data5   0.800709   0.800709   \n",
       "2   2021-08-08     NaN  data5   0.824695   0.824695   \n",
       "3   2021-08-09     NaN  data5   0.848682   0.848682   \n",
       "4   2021-08-10     NaN  data5   0.872669   0.872669   \n",
       "..         ...     ...    ...        ...        ...   \n",
       "293 2022-05-26     NaN  data5  65.135925  22.581045   \n",
       "294 2022-05-27  57.288  data5  65.142281  22.587395   \n",
       "295 2022-05-28     NaN  data5  65.148628  22.593744   \n",
       "296 2022-05-29     NaN  data5  65.154976  22.600094   \n",
       "297 2022-05-30  57.288  data5  65.161324  22.606441   \n",
       "\n",
       "     future_regressors_additive  future_regressor_H  \n",
       "0                      0.000000            0.000000  \n",
       "1                      0.000000            0.000000  \n",
       "2                      0.000000            0.000000  \n",
       "3                      0.000000            0.000000  \n",
       "4                      0.000000            0.000000  \n",
       "..                          ...                 ...  \n",
       "293                   42.554882           42.554882  \n",
       "294                   42.554882           42.554882  \n",
       "295                   42.554882           42.554882  \n",
       "296                   42.554882           42.554882  \n",
       "297                   42.554882           42.554882  \n",
       "\n",
       "[298 rows x 7 columns]"
      ]
     },
     "execution_count": 203,
     "metadata": {},
     "output_type": "execute_result"
    },
    {
     "data": {
      "image/png": "[encoded data removed]",
      "text/plain": [
       "<Figure size 1000x600 with 1 Axes>"
      ]
     },
     "metadata": {},
     "output_type": "display_data"
    }
   ],
   "source": [
    "forecast2 = m2.predict(df5)\n",
    "m2.plot(forecast2)\n",
    "forecast2"
   ]
  },
  {
   "cell_type": "code",
   "execution_count": 200,
   "metadata": {},
   "outputs": [
    {
     "name": "stderr",
     "output_type": "stream",
     "text": [
      "WARNING - (py.warnings._showwarnmsg) - C:\\Users\\전현수\\AppData\\Local\\Temp\\ipykernel_22300\\2821008401.py:20: FutureWarning: The pandas.datetime class is deprecated and will be removed from pandas in a future version. Import from datetime module instead.\n",
      "  plt.text(pd.datetime(2021, 10, 5), 2, f'RMSE : {rmse%10000}')\n",
      "\n",
      "WARNING - (py.warnings._showwarnmsg) - C:\\Users\\전현수\\AppData\\Local\\Temp\\ipykernel_22300\\2821008401.py:21: FutureWarning: The pandas.datetime class is deprecated and will be removed from pandas in a future version. Import from datetime module instead.\n",
      "  plt.text(pd.datetime(2021, 9, 7), 9, 'H : 0.62')\n",
      "\n",
      "WARNING - (py.warnings._showwarnmsg) - C:\\Users\\전현수\\AppData\\Local\\Temp\\ipykernel_22300\\2821008401.py:22: FutureWarning: The pandas.datetime class is deprecated and will be removed from pandas in a future version. Import from datetime module instead.\n",
      "  plt.text(pd.datetime(2021, 10, 12), 19, 'H : 1.86')\n",
      "\n",
      "WARNING - (py.warnings._showwarnmsg) - C:\\Users\\전현수\\AppData\\Local\\Temp\\ipykernel_22300\\2821008401.py:23: FutureWarning: The pandas.datetime class is deprecated and will be removed from pandas in a future version. Import from datetime module instead.\n",
      "  plt.text(pd.datetime(2021, 10, 26), 30, 'H : 3.348')\n",
      "\n",
      "WARNING - (py.warnings._showwarnmsg) - C:\\Users\\전현수\\AppData\\Local\\Temp\\ipykernel_22300\\2821008401.py:24: FutureWarning: The pandas.datetime class is deprecated and will be removed from pandas in a future version. Import from datetime module instead.\n",
      "  plt.text(pd.datetime(2021, 12, 4), 38, 'H : 3.348')\n",
      "\n",
      "WARNING - (py.warnings._showwarnmsg) - C:\\Users\\전현수\\AppData\\Local\\Temp\\ipykernel_22300\\2821008401.py:25: FutureWarning: The pandas.datetime class is deprecated and will be removed from pandas in a future version. Import from datetime module instead.\n",
      "  plt.text(pd.datetime(2021, 12, 23), 41, 'H : 3.844')\n",
      "\n",
      "WARNING - (py.warnings._showwarnmsg) - C:\\Users\\전현수\\AppData\\Local\\Temp\\ipykernel_22300\\2821008401.py:26: FutureWarning: The pandas.datetime class is deprecated and will be removed from pandas in a future version. Import from datetime module instead.\n",
      "  plt.text(pd.datetime(2022, 1, 15), 47, 'H : 3.968')\n",
      "\n"
     ]
    },
    {
     "data": {
      "image/png": "[encoded data removed]",
      "text/plain": [
       "<Figure size 640x480 with 1 Axes>"
      ]
     },
     "metadata": {},
     "output_type": "display_data"
    },
    {
     "data": {
      "text/plain": [
       "1.3442480068295186"
      ]
     },
     "execution_count": 200,
     "metadata": {},
     "output_type": "execute_result"
    }
   ],
   "source": [
    "import matplotlib.pyplot as plt\n",
    "\n",
    "\n",
    "def RMSE(result):\n",
    "    cnt = 0\n",
    "    SE = 0\n",
    "    for idx, row in result.dropna().iterrows():\n",
    "        cnt += 1\n",
    "        SE += (row['y']-row['yhat1'])**2\n",
    "    return (SE/cnt)**(1/2)\n",
    "    # return (SE/cnt)\n",
    "\n",
    "\n",
    "rmse = RMSE(forecast2)\n",
    "\n",
    "\n",
    "plt.scatter(forecast2['ds'], forecast2['y'],\n",
    "            label='Actual', s=10, color='black')\n",
    "plt.plot(forecast2['ds'], forecast2['yhat1'], label='Forecast')\n",
    "plt.text(pd.datetime(2021, 10, 5), 2, f'RMSE : {rmse%10000}')\n",
    "plt.text(pd.datetime(2021, 9, 7), 9, 'H : 0.62')\n",
    "plt.text(pd.datetime(2021, 10, 12), 19, 'H : 1.86')\n",
    "plt.text(pd.datetime(2021, 10, 26), 30, 'H : 3.348')\n",
    "plt.text(pd.datetime(2021, 12, 4), 38, 'H : 3.348')\n",
    "plt.text(pd.datetime(2021, 12, 23), 41, 'H : 3.844')\n",
    "plt.text(pd.datetime(2022, 1, 15), 47, 'H : 3.968')\n",
    "plt.xticks(rotation=45)\n",
    "plt.title('H-S_seq_3')\n",
    "plt.xlabel('Date')\n",
    "plt.ylabel('S')\n",
    "plt.legend()\n",
    "plt.show()\n",
    "RMSE(forecast2)\n"
   ]
  }
 ],
 "metadata": {
  "kernelspec": {
   "display_name": "Python 3",
   "language": "python",
   "name": "python3"
  },
  "language_info": {
   "codemirror_mode": {
    "name": "ipython",
    "version": 3
   },
   "file_extension": ".py",
   "mimetype": "text/x-python",
   "name": "python",
   "nbconvert_exporter": "python",
   "pygments_lexer": "ipython3",
   "version": "3.10.4"
  },
  "orig_nbformat": 4,
  "vscode": {
   "interpreter": {
    "hash": "dfdb3a6c550d1670b7c2e245be02e905c51d8064f72ff515d4711c5f46786f15"
   }
  }
 },
 "nbformat": 4,
 "nbformat_minor": 2
}
