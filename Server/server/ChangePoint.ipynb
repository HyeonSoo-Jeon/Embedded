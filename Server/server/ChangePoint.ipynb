{
 "cells": [
  {
   "cell_type": "code",
   "execution_count": 40,
   "metadata": {},
   "outputs": [],
   "source": [
    "from neuralprophet import NeuralProphet\n",
    "import pandas as pd\n",
    "import matplotlib.pyplot as plt\n",
    "import numpy as np"
   ]
  },
  {
   "cell_type": "code",
   "execution_count": 3,
   "metadata": {},
   "outputs": [],
   "source": [
    "def make_df(filename, ID, slicing = 0):\n",
    "    df = pd.read_csv(filename)\n",
    "    \n",
    "    if slicing:\n",
    "        l = len(df)\n",
    "        df = df.head(slicing)\n",
    "        print(f'sliced into {len(df)} out of {l} data.')\n",
    "        \n",
    "    df.rename(columns={'Date' : 'ds' , 'S' : 'y'}, inplace = True)\n",
    "    \n",
    "    df['ds'] = pd.to_datetime(df['ds'])\n",
    "    df.set_index('ds', inplace = True)\n",
    "    df_daily = df.resample('D').mean()\n",
    "    \n",
    "    df_daily['H'].fillna(method='ffill', inplace = True)\n",
    "    df = df_daily.reset_index()\n",
    "    df['ID'] = ID\n",
    "    \n",
    "    df = df[['ds','y','H','ID']]\n",
    "    \n",
    "    return df"
   ]
  },
  {
   "cell_type": "code",
   "execution_count": 45,
   "metadata": {},
   "outputs": [],
   "source": [
    "def make_cp(df,ID):\n",
    "    prev = -1\n",
    "    changePoint=[]\n",
    "    for i in df.iloc:\n",
    "        now = i['H']\n",
    "        if prev!=now:\n",
    "            changePoint.append(i['ds'])\n",
    "            prev = now\n",
    "    return changePoint"
   ]
  },
  {
   "cell_type": "code",
   "execution_count": 46,
   "metadata": {},
   "outputs": [],
   "source": [
    "# 298 기간\n",
    "\n",
    "df1 = make_df('H-S_seq_1.csv',ID = 'data1')\n",
    "df2 = make_df('H-S_seq_2.csv',ID = 'data2')\n",
    "df3 = make_df('H-S_seq_3.csv',ID = 'data3')\n",
    "df4 = make_df('H-S_seq_4.csv',ID = 'data4')\n",
    "df5 = make_df('H-S_seq_5.csv',ID = 'data5')\n",
    "df6 = make_df('H-S_seq_6.csv',ID = 'data6')\n",
    "df7 = make_df('H-S_seq_7.csv',ID = 'data7')\n",
    "df8 = make_df('H-S_seq_8.csv',ID = 'data8')\n",
    "df1_cp = make_cp(df1)\n",
    "df2_cp = make_cp(df2)\n",
    "df3_cp = make_cp(df3)\n",
    "df4_cp = make_cp(df4)\n",
    "df5_cp = make_cp(df5)\n",
    "df6_cp = make_cp(df6)\n",
    "df7_cp = make_cp(df7)\n",
    "df8_cp = make_cp(df8)\n",
    "\n",
    "\n",
    "df = pd.concat((df1,df2,df4,df6,df7,df8))\n",
    "\n",
    "pd.set_option('display.max_rows', None)\n"
   ]
  },
  {
   "cell_type": "code",
   "execution_count": 53,
   "metadata": {},
   "outputs": [
    {
     "name": "stderr",
     "output_type": "stream",
     "text": [
      "WARNING - (NP.forecaster.fit) - Changing n_forecasts to 1. Without lags, the forecast can be computed for any future time, independent of lagged values\n",
      "INFO - (NP.df_utils._infer_frequency) - Major frequency D corresponds to 99.664% of the data.\n",
      "INFO - (NP.df_utils._infer_frequency) - Dataframe freq automatically defined as D\n",
      "INFO - (NP.forecaster.__handle_missing_data) - dropped 236 NAN row in 'y'\n",
      "INFO - (NP.config.init_data_params) - Setting normalization to global as only one dataframe provided for training.\n",
      "ERROR - (NP.df_utils.get_normalization_params) - Normalization True not defined.\n",
      "ERROR - (NP.df_utils.get_normalization_params) - Normalization True not defined.\n",
      "INFO - (NP.utils.set_auto_seasonalities) - Disabling daily seasonality. Run NeuralProphet with daily_seasonality=True to override this.\n",
      "INFO - (NP.config.set_auto_batch_epoch) - Auto-set batch_size to 16\n",
      "INFO - (NP.config.set_auto_batch_epoch) - Auto-set epochs to 742\n",
      "WARNING - (NP.forecaster._train) - To plot live loss, please install neuralprophet[live].Using pip: 'pip install neuralprophet[live]'Or install the missing package manually: 'pip install livelossplot'\n",
      "Traceback (most recent call last):\n",
      "  File \"/home/ubuntu/anaconda3/envs/hscode/lib/python3.6/site-packages/neuralprophet/forecaster.py\", line 2383, in _train\n",
      "    from livelossplot import PlotLosses\n",
      "ModuleNotFoundError: No module named 'livelossplot'\n",
      "Epoch[742/742]: 100%|██████████| 742/742 [00:04<00:00, 156.55it/s, SmoothL1Loss=0.000377, MAE=1.1, RMSE=1.46, Loss=0.000157, RegLoss=0] \n"
     ]
    }
   ],
   "source": [
    "m = NeuralProphet(learning_rate=0.1, \n",
    "                  yearly_seasonality=False, \n",
    "                  weekly_seasonality=False, \n",
    "                  unknown_data_normalization=True, \n",
    "                  newer_samples_weight = 4,\n",
    "                  n_forecasts=10,\n",
    "                  drop_missing = True,\n",
    "                  optimizer = 'AdamW',\n",
    "                  changepoints=df1_cp\n",
    "                  )\n",
    "\n",
    "m = m.add_future_regressor(name='H', normalize=True)\n",
    "# metrics = m.fit(df,freq='D')\n",
    "m.fit(df1)\n"
   ]
  },
  {
   "cell_type": "code",
   "execution_count": 48,
   "metadata": {},
   "outputs": [],
   "source": [
    "def warm_start_params(m):\n",
    "    res = {}\n",
    "    for pname in ['k', 'm', 'sigma_obs']:\n",
    "        if m.mcmc_samples == 0:\n",
    "            res[pname] = m.params[pname][0][0]\n",
    "        else:\n",
    "            res[pname] = np.mean(m.params[pname])\n",
    "    for pname in ['delta', 'beta']:\n",
    "        if m.mcmc_samples == 0:\n",
    "            res[pname] = m.params[pname][0]\n",
    "        else:\n",
    "            res[pname] = np.mean(m.params[pname], axis=0)\n",
    "    return res"
   ]
  },
  {
   "cell_type": "code",
   "execution_count": 49,
   "metadata": {},
   "outputs": [
    {
     "ename": "AttributeError",
     "evalue": "'NeuralProphet' object has no attribute 'mcmc_samples'",
     "output_type": "error",
     "traceback": [
      "\u001b[0;31m---------------------------------------------------------------------------\u001b[0m",
      "\u001b[0;31mAttributeError\u001b[0m                            Traceback (most recent call last)",
      "\u001b[0;32m<ipython-input-49-de0075dfd31f>\u001b[0m in \u001b[0;36m<module>\u001b[0;34m\u001b[0m\n\u001b[1;32m     14\u001b[0m     \u001b[0mm\u001b[0m \u001b[0;34m=\u001b[0m \u001b[0mm\u001b[0m\u001b[0;34m.\u001b[0m\u001b[0madd_future_regressor\u001b[0m\u001b[0;34m(\u001b[0m\u001b[0mname\u001b[0m\u001b[0;34m=\u001b[0m\u001b[0;34m'H'\u001b[0m\u001b[0;34m,\u001b[0m \u001b[0mnormalize\u001b[0m\u001b[0;34m=\u001b[0m\u001b[0;32mTrue\u001b[0m\u001b[0;34m)\u001b[0m\u001b[0;34m\u001b[0m\u001b[0;34m\u001b[0m\u001b[0m\n\u001b[1;32m     15\u001b[0m     \u001b[0;31m# metrics = m.fit(df,freq='D')\u001b[0m\u001b[0;34m\u001b[0m\u001b[0;34m\u001b[0m\u001b[0;34m\u001b[0m\u001b[0m\n\u001b[0;32m---> 16\u001b[0;31m     \u001b[0mm\u001b[0m\u001b[0;34m.\u001b[0m\u001b[0mfit\u001b[0m\u001b[0;34m(\u001b[0m\u001b[0mfit_list\u001b[0m\u001b[0;34m[\u001b[0m\u001b[0mi\u001b[0m\u001b[0;34m]\u001b[0m\u001b[0;34m,\u001b[0m \u001b[0minit\u001b[0m \u001b[0;34m=\u001b[0m \u001b[0mwarm_start_params\u001b[0m\u001b[0;34m(\u001b[0m\u001b[0mpm\u001b[0m\u001b[0;34m)\u001b[0m\u001b[0;34m)\u001b[0m\u001b[0;34m\u001b[0m\u001b[0;34m\u001b[0m\u001b[0m\n\u001b[0m\u001b[1;32m     17\u001b[0m     \u001b[0mpm\u001b[0m \u001b[0;34m=\u001b[0m \u001b[0mm\u001b[0m\u001b[0;34m\u001b[0m\u001b[0;34m\u001b[0m\u001b[0m\n\u001b[1;32m     18\u001b[0m \u001b[0;34m\u001b[0m\u001b[0m\n",
      "\u001b[0;32m<ipython-input-48-a1e69d1b7a05>\u001b[0m in \u001b[0;36mwarm_start_params\u001b[0;34m(m)\u001b[0m\n\u001b[1;32m      2\u001b[0m     \u001b[0mres\u001b[0m \u001b[0;34m=\u001b[0m \u001b[0;34m{\u001b[0m\u001b[0;34m}\u001b[0m\u001b[0;34m\u001b[0m\u001b[0;34m\u001b[0m\u001b[0m\n\u001b[1;32m      3\u001b[0m     \u001b[0;32mfor\u001b[0m \u001b[0mpname\u001b[0m \u001b[0;32min\u001b[0m \u001b[0;34m[\u001b[0m\u001b[0;34m'k'\u001b[0m\u001b[0;34m,\u001b[0m \u001b[0;34m'm'\u001b[0m\u001b[0;34m,\u001b[0m \u001b[0;34m'sigma_obs'\u001b[0m\u001b[0;34m]\u001b[0m\u001b[0;34m:\u001b[0m\u001b[0;34m\u001b[0m\u001b[0;34m\u001b[0m\u001b[0m\n\u001b[0;32m----> 4\u001b[0;31m         \u001b[0;32mif\u001b[0m \u001b[0mm\u001b[0m\u001b[0;34m.\u001b[0m\u001b[0mmcmc_samples\u001b[0m \u001b[0;34m==\u001b[0m \u001b[0;36m0\u001b[0m\u001b[0;34m:\u001b[0m\u001b[0;34m\u001b[0m\u001b[0;34m\u001b[0m\u001b[0m\n\u001b[0m\u001b[1;32m      5\u001b[0m             \u001b[0mres\u001b[0m\u001b[0;34m[\u001b[0m\u001b[0mpname\u001b[0m\u001b[0;34m]\u001b[0m \u001b[0;34m=\u001b[0m \u001b[0mm\u001b[0m\u001b[0;34m.\u001b[0m\u001b[0mparams\u001b[0m\u001b[0;34m[\u001b[0m\u001b[0mpname\u001b[0m\u001b[0;34m]\u001b[0m\u001b[0;34m[\u001b[0m\u001b[0;36m0\u001b[0m\u001b[0;34m]\u001b[0m\u001b[0;34m[\u001b[0m\u001b[0;36m0\u001b[0m\u001b[0;34m]\u001b[0m\u001b[0;34m\u001b[0m\u001b[0;34m\u001b[0m\u001b[0m\n\u001b[1;32m      6\u001b[0m         \u001b[0;32melse\u001b[0m\u001b[0;34m:\u001b[0m\u001b[0;34m\u001b[0m\u001b[0;34m\u001b[0m\u001b[0m\n",
      "\u001b[0;31mAttributeError\u001b[0m: 'NeuralProphet' object has no attribute 'mcmc_samples'"
     ]
    }
   ],
   "source": [
    "fit_list = [df2,df4,df6,df7,df8]\n",
    "cp_list = [df2_cp, df4_cp, df6_cp, df7_cp, df8_cp]\n",
    "\n",
    "for i in range(5):\n",
    "    m = NeuralProphet(learning_rate=0.1,\n",
    "                      yearly_seasonality=False,\n",
    "                      weekly_seasonality=False,\n",
    "                      unknown_data_normalization=True,\n",
    "                      newer_samples_weight=4,\n",
    "                      n_forecasts=10,\n",
    "                      drop_missing=True,\n",
    "                      optimizer='AdamW',\n",
    "                      changepoints=cp_list[i])\n",
    "    m = m.add_future_regressor(name='H', normalize=True)\n",
    "    # metrics = m.fit(df,freq='D')\n",
    "    m.fit(fit_list[i], init = warm_start_params(pm))\n",
    "    pm = m\n",
    "    "
   ]
  }
 ],
 "metadata": {
  "kernelspec": {
   "display_name": "hscode",
   "language": "python",
   "name": "hscode"
  },
  "language_info": {
   "codemirror_mode": {
    "name": "ipython",
    "version": 3
   },
   "file_extension": ".py",
   "mimetype": "text/x-python",
   "name": "python",
   "nbconvert_exporter": "python",
   "pygments_lexer": "ipython3",
   "version": "3.6.13"
  },
  "orig_nbformat": 4
 },
 "nbformat": 4,
 "nbformat_minor": 2
}
