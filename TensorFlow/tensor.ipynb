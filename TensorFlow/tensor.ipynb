{
 "cells": [
  {
   "cell_type": "markdown",
   "metadata": {},
   "source": [
    "# Tensorflow\n"
   ]
  },
  {
   "cell_type": "code",
   "execution_count": 2,
   "metadata": {},
   "outputs": [
    {
     "data": {
      "text/plain": [
       "<tf.Tensor: shape=(3,), dtype=int32, numpy=array([ 9, 11, 13])>"
      ]
     },
     "execution_count": 2,
     "metadata": {},
     "output_type": "execute_result"
    }
   ],
   "source": [
    "import tensorflow as tf\n",
    "\n",
    "tensor1 = tf.constant([3,4,5])\n",
    "tensor2 = tf.constant([6,7,8])\n",
    "\n",
    "tensor1+tensor2"
   ]
  },
  {
   "cell_type": "code",
   "execution_count": null,
   "metadata": {},
   "outputs": [],
   "source": [
    "tf.add()\n",
    "tf.subtract()\n",
    "tf.divide()\n",
    "tf.multiply()\n",
    "tf.matmul()"
   ]
  },
  {
   "cell_type": "code",
   "execution_count": 5,
   "metadata": {},
   "outputs": [
    {
     "data": {
      "text/plain": [
       "<tf.Tensor: shape=(2, 2, 2, 3), dtype=float32, numpy=\n",
       "array([[[[0., 0., 0.],\n",
       "         [0., 0., 0.]],\n",
       "\n",
       "        [[0., 0., 0.],\n",
       "         [0., 0., 0.]]],\n",
       "\n",
       "\n",
       "       [[[0., 0., 0.],\n",
       "         [0., 0., 0.]],\n",
       "\n",
       "        [[0., 0., 0.],\n",
       "         [0., 0., 0.]]]], dtype=float32)>"
      ]
     },
     "execution_count": 5,
     "metadata": {},
     "output_type": "execute_result"
    }
   ],
   "source": [
    "tf.zeros([2,2,2,3])"
   ]
  },
  {
   "cell_type": "code",
   "execution_count": 7,
   "metadata": {},
   "outputs": [
    {
     "data": {
      "text/plain": [
       "1.0"
      ]
     },
     "execution_count": 7,
     "metadata": {},
     "output_type": "execute_result"
    }
   ],
   "source": [
    "# waight 저장하기 위해 variable 만들기\n",
    "w = tf.Variable(1.0)\n",
    "w.numpy()       # 값 불러오기\n",
    "w.assign(2.0)   # 변수 변경\n"
   ]
  },
  {
   "cell_type": "markdown",
   "metadata": {},
   "source": [
    "활성함수 : layer를 가공\n",
    "\n",
    "활성함수를 통해 비선형적 예측을 가능하게함\n",
    "\n",
    "loss function : 오차 계산\n",
    "optimizer : learning rate를 계산\n",
    "\n",
    "\n",
    "\n"
   ]
  },
  {
   "cell_type": "code",
   "execution_count": 12,
   "metadata": {},
   "outputs": [
    {
     "data": {
      "text/plain": [
       "(1.5198832, 1.6198834)"
      ]
     },
     "execution_count": 12,
     "metadata": {},
     "output_type": "execute_result"
    }
   ],
   "source": [
    "height  = 170\n",
    "foot = 260\n",
    "\n",
    "a=tf.Variable(0.1)\n",
    "b=tf.Variable(0.2)\n",
    "\n",
    "def lossFunc():\n",
    "    yhat = height * a+b\n",
    "    return tf.square((260 - yhat))\n",
    "\n",
    "opt = tf.keras.optimizers.Adam(learning_rate=0.1)\n",
    "\n",
    "for i in range(300):\n",
    "    opt.minimize(lossFunc, var_list=[a,b])\n",
    "    \n",
    "a.numpy(), b.numpy() "
   ]
  },
  {
   "cell_type": "code",
   "execution_count": null,
   "metadata": {},
   "outputs": [],
   "source": [
    "model = tf.keras.models.Sequential([\n",
    "    tf.keras.layers.Dense(64, activation = 'relu'),\n",
    "    tf.keras.layers.Dense(128, activation = 'softmax'),\n",
    "    tf.keras.layers.Dense(32, activation = 'tanh'),\n",
    "    tf.keras.layers.Dense(1, activation = 'sigmoid') # 0~1 사이의 결과를 알려줌\n",
    "])\n",
    "\n",
    "model.compile(optimizer='adam',loss='binary_crossentropy',metrics=['accuracy'])\n",
    "#binary_crossentropy : 0과 1 분류, 확률\n",
    "\n",
    "model.fit(epochs = 10)"
   ]
  }
 ],
 "metadata": {
  "kernelspec": {
   "display_name": "Python 3.7.9 64-bit",
   "language": "python",
   "name": "python3"
  },
  "language_info": {
   "codemirror_mode": {
    "name": "ipython",
    "version": 3
   },
   "file_extension": ".py",
   "mimetype": "text/x-python",
   "name": "python",
   "nbconvert_exporter": "python",
   "pygments_lexer": "ipython3",
   "version": "3.7.9"
  },
  "orig_nbformat": 4,
  "vscode": {
   "interpreter": {
    "hash": "45fec446954c4b93a78d70269a92d46ce98597c3ec9e60d1101f62821c8d202c"
   }
  }
 },
 "nbformat": 4,
 "nbformat_minor": 2
}
