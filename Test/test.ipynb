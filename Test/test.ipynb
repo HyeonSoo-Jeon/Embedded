{
 "cells": [
  {
   "cell_type": "code",
   "execution_count": null,
   "metadata": {},
   "outputs": [],
   "source": [
    "import numpy as np\n",
    "import pandas as pd\n",
    "import timeit\n",
    "\n",
    "\n",
    "def warm_start_params(m):\n",
    "    \"\"\"\n",
    "    Retrieve parameters from a trained model in the format used to initialize a new Stan model.\n",
    "    Note that the new Stan model must have these same settings:\n",
    "        n_changepoints, seasonality features, mcmc sampling\n",
    "    for the retrieved parameters to be valid for the new model.\n",
    "\n",
    "    Parameters\n",
    "    ----------\n",
    "    m: A trained model of the Prophet class.\n",
    "\n",
    "    Returns\n",
    "    -------\n",
    "    A Dictionary containing retrieved parameters of m.\n",
    "    \"\"\"\n",
    "    res = {}\n",
    "    for pname in ['k', 'm', 'sigma_obs']:\n",
    "        if m.mcmc_samples == 0:\n",
    "            res[pname] = m.params[pname][0][0]\n",
    "        else:\n",
    "            res[pname] = np.mean(m.params[pname])\n",
    "    for pname in ['delta', 'beta']:\n",
    "        if m.mcmc_samples == 0:\n",
    "            res[pname] = m.params[pname][0]\n",
    "        else:\n",
    "            res[pname] = np.mean(m.params[pname], axis=0)\n",
    "    return res\n"
   ]
  },
  {
   "cell_type": "code",
   "execution_count": null,
   "metadata": {},
   "outputs": [],
   "source": [
    "df = pd.read_csv(\n",
    "    'https://raw.githubusercontent.com/facebook/prophet/main/examples/example_wp_log_peyton_manning.csv')\n",
    "\n",
    "df.plot()\n",
    "\n",
    "# m = Prophet().fit(df)  # A model fit to all data except the last day"
   ]
  },
  {
   "cell_type": "code",
   "execution_count": null,
   "metadata": {},
   "outputs": [],
   "source": [
    "from prophet import Prophet\n",
    "import pandas as pd\n",
    "\n",
    "# Load your time series data into a DataFrame\n",
    "df = pd.read_csv(\n",
    "    'https://raw.githubusercontent.com/facebook/prophet/main/examples/example_air_passengers.csv')\n",
    "\n",
    "# Define the model and fit it to the data\n",
    "m = Prophet()\n",
    "m.fit(df)\n",
    "\n",
    "# Create a DataFrame to hold the future dates\n",
    "future = m.make_future_dataframe(periods=365)\n",
    "\n",
    "# Make predictions\n",
    "forecast = m.predict(future)\n",
    "\n",
    "# Plot the forecast\n",
    "m.plot(forecast)"
   ]
  }
 ],
 "metadata": {
  "kernelspec": {
   "display_name": "Python 3.7.9 64-bit",
   "language": "python",
   "name": "python3"
  },
  "language_info": {
   "codemirror_mode": {
    "name": "ipython",
    "version": 3
   },
   "file_extension": ".py",
   "mimetype": "text/x-python",
   "name": "python",
   "nbconvert_exporter": "python",
   "pygments_lexer": "ipython3",
   "version": "3.7.9"
  },
  "orig_nbformat": 4,
  "vscode": {
   "interpreter": {
    "hash": "45fec446954c4b93a78d70269a92d46ce98597c3ec9e60d1101f62821c8d202c"
   }
  }
 },
 "nbformat": 4,
 "nbformat_minor": 2
}
